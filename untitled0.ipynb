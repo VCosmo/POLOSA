{
  "nbformat": 4,
  "nbformat_minor": 0,
  "metadata": {
    "colab": {
      "provenance": [],
      "authorship_tag": "ABX9TyNtX7sDFqnwNI82fKCj257W",
      "include_colab_link": true
    },
    "kernelspec": {
      "name": "python3",
      "display_name": "Python 3"
    },
    "language_info": {
      "name": "python"
    }
  },
  "cells": [
    {
      "cell_type": "markdown",
      "metadata": {
        "id": "view-in-github",
        "colab_type": "text"
      },
      "source": [
        "<a href=\"https://colab.research.google.com/gist/SashaNBL/8be53e3d5d7dd6ecb0c794fa640b1ebe/untitled0.ipynb\" target=\"_parent\"><img src=\"https://colab.research.google.com/assets/colab-badge.svg\" alt=\"Open In Colab\"/></a>"
      ]
    },
    {
      "cell_type": "code",
      "execution_count": 2,
      "metadata": {
        "id": "WwfMuVIyEcy4"
      },
      "outputs": [],
      "source": [
        "import numpy as np \n",
        "import matplotlib.pyplot as plt\n",
        "from scipy.integrate import quad"
      ]
    },
    {
      "cell_type": "markdown",
      "source": [],
      "metadata": {
        "id": "qKp02aJ-FFJg"
      }
    },
    {
      "cell_type": "code",
      "source": [
        "N = 100\n",
        "samples = np.random.uniform(0, 1, N)\n",
        "_=plt.hist(samples,bins='auto',density='True',label='With no selection') \n",
        "\n",
        "plt.xlabel('x')\n",
        "plt.ylabel(r'$\\mathcal{L}(x|\\mu,\\sigma)$')\n",
        "plt.legend()"
      ],
      "metadata": {
        "colab": {
          "base_uri": "https://localhost:8080/",
          "height": 296
        },
        "id": "mBE4OCK2FFmq",
        "outputId": "dd289907-e890-4916-dfc9-9607dcfef53c"
      },
      "execution_count": 39,
      "outputs": [
        {
          "output_type": "execute_result",
          "data": {
            "text/plain": [
              "<matplotlib.legend.Legend at 0x7f870e493370>"
            ]
          },
          "metadata": {},
          "execution_count": 39
        },
        {
          "output_type": "display_data",
          "data": {
            "text/plain": [
              "<Figure size 432x288 with 1 Axes>"
            ],
            "image/png": "[encoded data removed]"
          },
          "metadata": {
            "needs_background": "light"
          }
        }
      ]
    },
    {
      "cell_type": "code",
      "source": [
        "mu_array=np.linspace(0.5,2,N)#defines a standard table \n",
        "\n",
        "mu_prior = np.ones_like(mu_array) #defines p(mu) table \n",
        "\n",
        "mu_posterior=np.zeros_like(mu_array) #creates p(mu|{x}) table \n",
        "\n",
        "#print(mu_array)\n",
        "\n",
        "entries = 0\n",
        "\n",
        "for i in range(len(mu_array)):\n",
        "    if samples[i] < 0.7 :\n",
        "       entries = entries + 1\n",
        "\n",
        "print(entries)\n",
        "\n",
        "\n",
        "for i in range(len(mu_array)):\n",
        "     mu_posterior[i] = np.exp(-0.5*( (N/entries - mu_array[i]/0.7 ) /np.std(mu_array / 0.7) )**2)\n",
        "     mu_posterior[i] = ( 2 * 3.14 * np.std(mu_array / 0.7) )**(-1) *(mu_posterior[i])*mu_prior[i]\n",
        "\n",
        "print(np.std(mu_array / 0.7))\n",
        "\n",
        "\n",
        "#print(mu_posterior, entries)\n",
        "\n",
        "plt.plot(mu_array,mu_posterior,label='Experiment n°{:d}'.format(0),alpha=1) \n",
        "plt.legend()\n",
        "plt.xlabel('$\\mu$')\n",
        "plt.ylabel('PDF p($\\mu$|{x})') "
      ],
      "metadata": {
        "colab": {
          "base_uri": "https://localhost:8080/",
          "height": 333
        },
        "id": "Gx4YcuDKFpOK",
        "outputId": "242c1179-8f16-4ba4-9cf0-c124f514bfe5"
      },
      "execution_count": 6,
      "outputs": [
        {
          "output_type": "stream",
          "name": "stdout",
          "text": [
            "7089\n",
            "0.6186514361824124\n"
          ]
        },
        {
          "output_type": "execute_result",
          "data": {
            "text/plain": [
              "Text(0, 0.5, 'PDF p($\\\\mu$|{x})')"
            ]
          },
          "metadata": {},
          "execution_count": 6
        },
        {
          "output_type": "display_data",
          "data": {
            "text/plain": [
              "<Figure size 432x288 with 1 Axes>"
            ],
            "image/png": "[encoded data removed]"
          },
          "metadata": {
            "needs_background": "light"
          }
        }
      ]
    },
    {
      "cell_type": "code",
      "source": [
        "def uniform_likelihood( x, a, b  ): \n",
        "  ind = np.where((x > a) & (x < b))[0]\n",
        "  pdf = np.zeros_like(x)\n",
        "  pdf[ind] = 1 / (b -a)\n",
        "  return pdf \n"
      ],
      "metadata": {
        "id": "wf-qOmRJtwlE"
      },
      "execution_count": 14,
      "outputs": []
    },
    {
      "cell_type": "code",
      "source": [
        "x = np.linspace(-2, 2, 1000)\n",
        "\n",
        "probe = uniform_likelihood ( x, -2, 2)\n",
        "\n",
        "plt.plot(x , probe)\n",
        "plt.hist(samples,bins='auto',density='True',label='With no selection') \n"
      ],
      "metadata": {
        "colab": {
          "base_uri": "https://localhost:8080/",
          "height": 386
        },
        "id": "uQSJze36wPUs",
        "outputId": "3fd53630-7999-4099-fa0c-6f86427ba285"
      },
      "execution_count": 18,
      "outputs": [
        {
          "output_type": "execute_result",
          "data": {
            "text/plain": [
              "(array([1.11240116, 0.95820694, 1.07935954, 0.85908208, 1.09037342,\n",
              "        1.10138729, 0.83705434, 1.00226243, 1.06834567, 0.84806821,\n",
              "        1.0573318 ]),\n",
              " array([2.03338219e-04, 9.09979216e-02, 1.81792505e-01, 2.72587088e-01,\n",
              "        3.63381672e-01, 4.54176255e-01, 5.44970839e-01, 6.35765422e-01,\n",
              "        7.26560006e-01, 8.17354589e-01, 9.08149172e-01, 9.98943756e-01]),\n",
              " <BarContainer object of 11 artists>)"
            ]
          },
          "metadata": {},
          "execution_count": 18
        },
        {
          "output_type": "display_data",
          "data": {
            "text/plain": [
              "<Figure size 432x288 with 1 Axes>"
            ],
            "image/png": "[encoded data removed]"
          },
          "metadata": {
            "needs_background": "light"
          }
        }
      ]
    },
    {
      "cell_type": "code",
      "source": [
        "dim = 1000\n",
        "b_array = np.linspace(0.2,2, dim)\n",
        "a_array = np.linspace(-1, 0.5, dim)\n",
        "\n",
        "b_posterior = np.zeros())\n",
        "\n",
        "for i in range(len(b_array)):\n",
        "  b_posterior[i] = np.prod(uniform_likelihood ( samples, 0, b_array[i]))\n",
        "\n",
        "b_posterior /= np.trapz(b_posterior, b_array)\n",
        "plt.plot(b_array , b_posterior)\n"
      ],
      "metadata": {
        "colab": {
          "base_uri": "https://localhost:8080/",
          "height": 293
        },
        "id": "a_sUjy_uyWjn",
        "outputId": "60eb1c14-689b-4dc0-bb46-0601dbb30641"
      },
      "execution_count": 46,
      "outputs": [
        {
          "output_type": "error",
          "ename": "TypeError",
          "evalue": "ignored",
          "traceback": [
            "\u001b[0;31m---------------------------------------------------------------------------\u001b[0m",
            "\u001b[0;31mTypeError\u001b[0m                                 Traceback (most recent call last)",
            "\u001b[0;32m<ipython-input-46-3b24dfd1a6ae>\u001b[0m in \u001b[0;36m<module>\u001b[0;34m\u001b[0m\n\u001b[1;32m      3\u001b[0m \u001b[0ma_array\u001b[0m \u001b[0;34m=\u001b[0m \u001b[0mnp\u001b[0m\u001b[0;34m.\u001b[0m\u001b[0mlinspace\u001b[0m\u001b[0;34m(\u001b[0m\u001b[0;34m-\u001b[0m\u001b[0;36m1\u001b[0m\u001b[0;34m,\u001b[0m \u001b[0;36m0.5\u001b[0m\u001b[0;34m,\u001b[0m \u001b[0mdim\u001b[0m\u001b[0;34m)\u001b[0m\u001b[0;34m\u001b[0m\u001b[0;34m\u001b[0m\u001b[0m\n\u001b[1;32m      4\u001b[0m \u001b[0;34m\u001b[0m\u001b[0m\n\u001b[0;32m----> 5\u001b[0;31m \u001b[0mb_posterior\u001b[0m \u001b[0;34m=\u001b[0m \u001b[0mnp\u001b[0m\u001b[0;34m.\u001b[0m\u001b[0mzeros_like\u001b[0m\u001b[0;34m(\u001b[0m\u001b[0mb_array\u001b[0m\u001b[0;34m,\u001b[0m \u001b[0ma_array\u001b[0m\u001b[0;34m)\u001b[0m\u001b[0;34m\u001b[0m\u001b[0;34m\u001b[0m\u001b[0m\n\u001b[0m\u001b[1;32m      6\u001b[0m \u001b[0;34m\u001b[0m\u001b[0m\n\u001b[1;32m      7\u001b[0m \u001b[0;32mfor\u001b[0m \u001b[0mi\u001b[0m \u001b[0;32min\u001b[0m \u001b[0mrange\u001b[0m\u001b[0;34m(\u001b[0m\u001b[0mlen\u001b[0m\u001b[0;34m(\u001b[0m\u001b[0mb_array\u001b[0m\u001b[0;34m)\u001b[0m\u001b[0;34m)\u001b[0m\u001b[0;34m:\u001b[0m\u001b[0;34m\u001b[0m\u001b[0;34m\u001b[0m\u001b[0m\n",
            "\u001b[0;32m/usr/local/lib/python3.9/dist-packages/numpy/core/overrides.py\u001b[0m in \u001b[0;36mzeros_like\u001b[0;34m(*args, **kwargs)\u001b[0m\n",
            "\u001b[0;32m/usr/local/lib/python3.9/dist-packages/numpy/core/numeric.py\u001b[0m in \u001b[0;36mzeros_like\u001b[0;34m(a, dtype, order, subok, shape)\u001b[0m\n\u001b[1;32m    136\u001b[0m \u001b[0;34m\u001b[0m\u001b[0m\n\u001b[1;32m    137\u001b[0m     \"\"\"\n\u001b[0;32m--> 138\u001b[0;31m     \u001b[0mres\u001b[0m \u001b[0;34m=\u001b[0m \u001b[0mempty_like\u001b[0m\u001b[0;34m(\u001b[0m\u001b[0ma\u001b[0m\u001b[0;34m,\u001b[0m \u001b[0mdtype\u001b[0m\u001b[0;34m=\u001b[0m\u001b[0mdtype\u001b[0m\u001b[0;34m,\u001b[0m \u001b[0morder\u001b[0m\u001b[0;34m=\u001b[0m\u001b[0morder\u001b[0m\u001b[0;34m,\u001b[0m \u001b[0msubok\u001b[0m\u001b[0;34m=\u001b[0m\u001b[0msubok\u001b[0m\u001b[0;34m,\u001b[0m \u001b[0mshape\u001b[0m\u001b[0;34m=\u001b[0m\u001b[0mshape\u001b[0m\u001b[0;34m)\u001b[0m\u001b[0;34m\u001b[0m\u001b[0;34m\u001b[0m\u001b[0m\n\u001b[0m\u001b[1;32m    139\u001b[0m     \u001b[0;31m# needed instead of a 0 to get same result as zeros for for string dtypes\u001b[0m\u001b[0;34m\u001b[0m\u001b[0;34m\u001b[0m\u001b[0m\n\u001b[1;32m    140\u001b[0m     \u001b[0mz\u001b[0m \u001b[0;34m=\u001b[0m \u001b[0mzeros\u001b[0m\u001b[0;34m(\u001b[0m\u001b[0;36m1\u001b[0m\u001b[0;34m,\u001b[0m \u001b[0mdtype\u001b[0m\u001b[0;34m=\u001b[0m\u001b[0mres\u001b[0m\u001b[0;34m.\u001b[0m\u001b[0mdtype\u001b[0m\u001b[0;34m)\u001b[0m\u001b[0;34m\u001b[0m\u001b[0;34m\u001b[0m\u001b[0m\n",
            "\u001b[0;32m/usr/local/lib/python3.9/dist-packages/numpy/core/overrides.py\u001b[0m in \u001b[0;36mempty_like\u001b[0;34m(*args, **kwargs)\u001b[0m\n",
            "\u001b[0;31mTypeError\u001b[0m: Cannot construct a dtype from an array"
          ]
        }
      ]
    },
    {
      "cell_type": "code",
      "source": [
        "def selection(x , a, b):\n",
        "  if b>0.9:\n",
        "    norm=(0.9-a)/(b-a)\n",
        "  else:\n",
        "    norm=1.\n",
        "  pdf = uniform_likelihood (x , a, b ) / norm\n",
        "  return pdf \n"
      ],
      "metadata": {
        "id": "UGJmRMoA1oxb"
      },
      "execution_count": 43,
      "outputs": []
    },
    {
      "cell_type": "code",
      "source": [
        "samples_filtered = samples[samples < 0.9]\n",
        "\n",
        "b_array = np.linspace(0.6,2, 1000)\n",
        "\n",
        "b_posterior = np.zeros_like(b_array)\n",
        "\n",
        "for i in range(len(b_array)):\n",
        "  b_posterior[i] = np.prod( selection( samples_filtered, 0, b_array[i]))\n",
        "\n",
        "b_posterior /= np.trapz(b_posterior, b_array)\n",
        "plt.plot(b_array , b_posterior)"
      ],
      "metadata": {
        "colab": {
          "base_uri": "https://localhost:8080/",
          "height": 282
        },
        "id": "WtTE9qbY2cpa",
        "outputId": "9bdb3e7a-52e5-4578-bc37-7da938c44e5a"
      },
      "execution_count": 45,
      "outputs": [
        {
          "output_type": "execute_result",
          "data": {
            "text/plain": [
              "[<matplotlib.lines.Line2D at 0x7f870e25deb0>]"
            ]
          },
          "metadata": {},
          "execution_count": 45
        },
        {
          "output_type": "display_data",
          "data": {
            "text/plain": [
              "<Figure size 432x288 with 1 Axes>"
            ],
            "image/png": "[encoded data removed]"
          },
          "metadata": {
            "needs_background": "light"
          }
        }
      ]
    },
    {
      "cell_type": "code",
      "source": [
        "N = 1000\n",
        "REP = 10\n",
        "\n",
        "mu_array=np.linspace(0.5,2,N)#defines a standard table \n",
        "\n",
        "mu_prior = np.ones_like(mu_array) #defines p(mu) table \n",
        "\n",
        "mu_posterior=np.zeros_like(mu_array) #creates p(mu|{x}) table \n",
        "\n",
        "mu_posterior_total=np.ones_like(mu_array)\n",
        "\n",
        "for j in range(REP):\n",
        "    \n",
        "    samples = np.random.uniform(0, 1, N)\n",
        "    entries = 0\n",
        "\n",
        "    for i in range(len(mu_array)):\n",
        "       if samples[i] < 0.7 :\n",
        "       entries = i\n",
        "\n",
        "    for i in range(len(mu_array)):\n",
        "      mu_posterior[i] = np.exp(-0.5*( (N/entries - mu_array[i]/0.7 ) /np.std(mu_array / 0.7) )**2)\n",
        "      mu_posterior[i] = ( 2 * 3.14 * np.std(mu_array / 0.7) )**(-1) *(mu_posterior[i])*mu_prior[i]\n",
        "      plt.plot(mu_array,mu_posterior,label='Experiment n°{:d}'.format(0),alpha=1) \n",
        "      \n",
        "mu_posterior_total*=mu_posterior\n",
        "\n",
        "plt.plot(mu_array,mu_posterior_total,label='Experiment n°{:d}'.format(0),alpha=1) \n",
        "plt.legend()\n",
        "plt.xlabel('$\\mu$')\n",
        "plt.ylabel('PDF p($\\mu$|{x})') \n",
        "\n"
      ],
      "metadata": {
        "colab": {
          "base_uri": "https://localhost:8080/",
          "height": 130
        },
        "id": "rqRURVNZpiwI",
        "outputId": "161a05ab-6127-4376-c2ab-4fa57c92bc3f"
      },
      "execution_count": 9,
      "outputs": [
        {
          "output_type": "error",
          "ename": "IndentationError",
          "evalue": "ignored",
          "traceback": [
            "\u001b[0;36m  File \u001b[0;32m\"<ipython-input-9-74187e7e9eb7>\"\u001b[0;36m, line \u001b[0;32m19\u001b[0m\n\u001b[0;31m    entries = i\u001b[0m\n\u001b[0m    ^\u001b[0m\n\u001b[0;31mIndentationError\u001b[0m\u001b[0;31m:\u001b[0m expected an indented block\n"
          ]
        }
      ]
    },
    {
      "cell_type": "code",
      "source": [],
      "metadata": {
        "id": "0kJGd3SeqwIy"
      },
      "execution_count": null,
      "outputs": []
    }
  ]
}