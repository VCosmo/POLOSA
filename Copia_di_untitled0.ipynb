{
  "nbformat": 4,
  "nbformat_minor": 0,
  "metadata": {
    "colab": {
      "provenance": [],
      "authorship_tag": "ABX9TyMl5OMump03NAQFg5OIYfYg",
      "include_colab_link": true
    },
    "kernelspec": {
      "name": "python3",
      "display_name": "Python 3"
    },
    "language_info": {
      "name": "python"
    }
  },
  "cells": [
    {
      "cell_type": "markdown",
      "metadata": {
        "id": "view-in-github",
        "colab_type": "text"
      },
      "source": [
        "<a href=\"https://colab.research.google.com/github/VCosmo/POLOSA/blob/main/Copia_di_untitled0.ipynb\" target=\"_parent\"><img src=\"https://colab.research.google.com/assets/colab-badge.svg\" alt=\"Open In Colab\"/></a>"
      ]
    },
    {
      "cell_type": "code",
      "execution_count": 2,
      "metadata": {
        "id": "WwfMuVIyEcy4"
      },
      "outputs": [],
      "source": [
        "import numpy as np \n",
        "import matplotlib.pyplot as plt\n",
        "import scipy.integrate as spi\n",
        "from matplotlib import cm"
      ]
    },
    {
      "cell_type": "markdown",
      "source": [],
      "metadata": {
        "id": "qKp02aJ-FFJg"
      }
    },
    {
      "cell_type": "code",
      "source": [
        "N = 100\n",
        "samples = np.random.uniform(-0.2, 1.2, N)\n",
        "_=plt.hist(samples,bins='auto',density='True',label='With no selection') \n",
        "\n",
        "plt.xlabel('x')\n",
        "plt.ylabel(r'$\\mathcal{L}(x|\\mu,\\sigma)$')\n",
        "plt.legend()"
      ],
      "metadata": {
        "colab": {
          "base_uri": "https://localhost:8080/",
          "height": 467
        },
        "id": "mBE4OCK2FFmq",
        "outputId": "d7230e55-60fb-44ea-e09b-c8392acfab46"
      },
      "execution_count": 36,
      "outputs": [
        {
          "output_type": "execute_result",
          "data": {
            "text/plain": [
              "<matplotlib.legend.Legend at 0x7f44d43ebd30>"
            ]
          },
          "metadata": {},
          "execution_count": 36
        },
        {
          "output_type": "display_data",
          "data": {
            "text/plain": [
              "<Figure size 640x480 with 1 Axes>"
            ],
            "image/png": "[encoded data removed]"
          },
          "metadata": {}
        }
      ]
    },
    {
      "cell_type": "code",
      "source": [
        "#x = np.linspace(-2, 2, 1000)\n",
        "#print(samples)\n",
        "#probe = uniform_likelihood ( samples, 0.2, 0.6)\n",
        "\n",
        "#plt.plot(samples , probe)\n",
        "#plt.hist(samples,bins='auto',density='True',label='With no selection') \n"
      ],
      "metadata": {
        "id": "uQSJze36wPUs"
      },
      "execution_count": null,
      "outputs": []
    },
    {
      "cell_type": "code",
      "source": [
        "def uniform_likelihood(a, b, x):\n",
        "    if np.all(x >= a) and np.all(x <= b):\n",
        "        return - np.log(b - a)*len(x)\n",
        "    else:\n",
        "        return -np.inf"
      ],
      "metadata": {
        "id": "98TSDjHvbhis"
      },
      "execution_count": 37,
      "outputs": []
    },
    {
      "cell_type": "code",
      "source": [
        "\n",
        "dim = 100\n",
        "amin, amax = -0.5, 0.5\n",
        "bmin, bmax = 0.6, 1.5\n",
        "\n",
        "b_array = np.linspace(bmin, bmax, dim)\n",
        "a_array = np.linspace(amin, amax, dim)\n",
        "\n",
        "b_posterior = np.zeros((dim, dim))\n",
        "  # Define the list of samples here\n",
        "\n",
        "for i in range(len(b_array)):\n",
        "    for j in range(len(a_array)):\n",
        "       b_posterior[i][j] = uniform_likelihood(a_array[i], b_array[j], samples)  #IL MAX DI PROBABILITA' VIENE SBAGLIATOOOO\n",
        "\n",
        "b_posterior = np.exp(b_posterior)\n",
        "#f = lambda x, y: b_posterior[int(x)][int(y)]\n",
        "#norm = spi.dblquad(f, bmin, bmax, lambda x: amin, lambda x: amax)   \n",
        "#b_posterior /= norm[0]\n",
        "\n",
        "#plt.plot(b_array, b_posterior[0], label='Experiment n°{:d}'.format(0), alpha=1)\n",
        "#plt.legend()\n",
        "#plt.xlabel('$\\mu$')\n",
        "#plt.ylabel('PDF p($\\mu$|{x})')\n",
        "\n",
        "X, Y = np.meshgrid(a_array, b_array, indexing= 'ij')\n",
        "#fig = plt.figure(figsize=(12, 8))\n",
        "\n",
        "#ax = fig.add_subplot(111, projection='3d')\n",
        "\n",
        "plt.contourf(X, Y, b_posterior,)\n",
        "plt.axhline(1.2, color='r')\n",
        "plt.axvline(-0.2, color='r')\n",
        "#ax.set_xlabel('a')\n",
        "#ax.set_ylabel('b')\n",
        "plt.show()"
      ],
      "metadata": {
        "colab": {
          "base_uri": "https://localhost:8080/",
          "height": 435
        },
        "id": "a_sUjy_uyWjn",
        "outputId": "27db031b-b44b-4cdd-ce73-cb87069803ca"
      },
      "execution_count": 38,
      "outputs": [
        {
          "output_type": "display_data",
          "data": {
            "text/plain": [
              "<Figure size 640x480 with 1 Axes>"
            ],
            "image/png": "[encoded data removed]"
          },
          "metadata": {}
        }
      ]
    },
    {
      "cell_type": "code",
      "source": [
        "def selection(a, b, min_thr, max_thr):\n",
        "    integr = np.linspace(a,b,100)\n",
        "    ppop = np.ones_like(integr)/(b-a)\n",
        "    ppop[(integr<= min_thr) | (integr>= max_thr)] = 0.\n",
        "    return np.trapz(ppop,integr)"
      ],
      "metadata": {
        "id": "ivXLx9utAJ2a"
      },
      "execution_count": 39,
      "outputs": []
    },
    {
      "cell_type": "code",
      "source": [
        "M = 1\n",
        "m = -1\n",
        "samples_filtered = samples[(samples < M) & (samples > m)]\n",
        "#print(samples_filtered)\n",
        "\n",
        "b_array = np.linspace(bmin, bmax, dim)         #tables\n",
        "a_array = np.linspace(amin, amax, dim)\n",
        "\n",
        "b_posterior = np.zeros((dim, dim))  \n",
        "I = np.ones((dim,dim))\n",
        "\n",
        "for i in range(len(b_array)):\n",
        "    for j in range(len(a_array)):\n",
        "       I[i][j] = selection(a_array[i], b_array[j], m, M)\n",
        "print(I)\n",
        "for i in range(len(b_array)):\n",
        "    for j in range(len(a_array)):\n",
        "        b_posterior[i][j] = uniform_likelihood(a_array[i], b_array[j], samples_filtered) - len(samples)*np.log(I[i][j])\n",
        "\n",
        "b_posterior = np.exp(b_posterior) \n",
        "X, Y = np.meshgrid(a_array, b_array, indexing= 'ij')\n",
        "\n",
        "plt.contourf(X, Y, b_posterior,)\n",
        "plt.axhline(1.2, color='r')\n",
        "plt.axvline(-0.2, color='r')"
      ],
      "metadata": {
        "colab": {
          "base_uri": "https://localhost:8080/",
          "height": 581
        },
        "id": "hL0kYSueCYCQ",
        "outputId": "1d669afb-91ea-4391-d797-1524a98be55f"
      },
      "execution_count": 42,
      "outputs": [
        {
          "output_type": "stream",
          "name": "stdout",
          "text": [
            "[[1.         1.         1.         ... 0.75252525 0.75252525 0.75252525]\n",
            " [1.         1.         1.         ... 0.75252525 0.75252525 0.75252525]\n",
            " [1.         1.         1.         ... 0.75252525 0.75252525 0.74242424]\n",
            " ...\n",
            " [1.         1.         1.         ... 0.52020202 0.51010101 0.51010101]\n",
            " [1.         1.         1.         ... 0.51010101 0.51010101 0.5       ]\n",
            " [1.         1.         1.         ... 0.51010101 0.5        0.5       ]]\n"
          ]
        },
        {
          "output_type": "execute_result",
          "data": {
            "text/plain": [
              "<matplotlib.lines.Line2D at 0x7f44d40aebb0>"
            ]
          },
          "metadata": {},
          "execution_count": 42
        },
        {
          "output_type": "display_data",
          "data": {
            "text/plain": [
              "<Figure size 640x480 with 1 Axes>"
            ],
            "image/png": "[encoded data removed]"
          },
          "metadata": {}
        }
      ]
    },
    {
      "cell_type": "code",
      "source": [
        "def selection(x , a, b):\n",
        "  if b>0.9:\n",
        "    norm=(0.9-a)/(b-a)\n",
        "  else:\n",
        "    norm=1.\n",
        "  pdf = uniform_likelihood (x , a, b ) / norm\n",
        "  return pdf \n"
      ],
      "metadata": {
        "id": "UGJmRMoA1oxb"
      },
      "execution_count": null,
      "outputs": []
    },
    {
      "cell_type": "code",
      "source": [
        "samples_filtered = samples[samples < 0.9 ]\n",
        "\n",
        "b_array = np.linspace(0.6,2, 1000)\n",
        "\n",
        "b_posterior = np.zeros_like(b_array)\n",
        "\n",
        "for i in range(len(b_array)):\n",
        "  b_posterior[i] = np.prod( selection( samples_filtered, 0, b_array[i]))\n",
        "\n",
        "b_posterior /= np.trapz(b_posterior, b_array)\n",
        "plt.plot(b_array , b_posterior)\n",
        "\n",
        "plt.contourf(X, Y, b_posterior,)\n",
        "plt.axhline(1.2, color='r')\n",
        "plt.axvline(-0.2, color='r')"
      ],
      "metadata": {
        "colab": {
          "base_uri": "https://localhost:8080/",
          "height": 244
        },
        "id": "WtTE9qbY2cpa",
        "outputId": "056581ff-0914-4593-c8b1-20532621a008"
      },
      "execution_count": 12,
      "outputs": [
        {
          "output_type": "error",
          "ename": "TypeError",
          "evalue": "ignored",
          "traceback": [
            "\u001b[0;31m---------------------------------------------------------------------------\u001b[0m",
            "\u001b[0;31mTypeError\u001b[0m                                 Traceback (most recent call last)",
            "\u001b[0;32m<ipython-input-12-a7886cec434c>\u001b[0m in \u001b[0;36m<cell line: 7>\u001b[0;34m()\u001b[0m\n\u001b[1;32m      6\u001b[0m \u001b[0;34m\u001b[0m\u001b[0m\n\u001b[1;32m      7\u001b[0m \u001b[0;32mfor\u001b[0m \u001b[0mi\u001b[0m \u001b[0;32min\u001b[0m \u001b[0mrange\u001b[0m\u001b[0;34m(\u001b[0m\u001b[0mlen\u001b[0m\u001b[0;34m(\u001b[0m\u001b[0mb_array\u001b[0m\u001b[0;34m)\u001b[0m\u001b[0;34m)\u001b[0m\u001b[0;34m:\u001b[0m\u001b[0;34m\u001b[0m\u001b[0;34m\u001b[0m\u001b[0m\n\u001b[0;32m----> 8\u001b[0;31m   \u001b[0mb_posterior\u001b[0m\u001b[0;34m[\u001b[0m\u001b[0mi\u001b[0m\u001b[0;34m]\u001b[0m \u001b[0;34m=\u001b[0m \u001b[0mnp\u001b[0m\u001b[0;34m.\u001b[0m\u001b[0mprod\u001b[0m\u001b[0;34m(\u001b[0m \u001b[0mselection\u001b[0m\u001b[0;34m(\u001b[0m \u001b[0msamples_filtered\u001b[0m\u001b[0;34m,\u001b[0m \u001b[0;36m0\u001b[0m\u001b[0;34m,\u001b[0m \u001b[0mb_array\u001b[0m\u001b[0;34m[\u001b[0m\u001b[0mi\u001b[0m\u001b[0;34m]\u001b[0m\u001b[0;34m)\u001b[0m\u001b[0;34m)\u001b[0m\u001b[0;34m\u001b[0m\u001b[0;34m\u001b[0m\u001b[0m\n\u001b[0m\u001b[1;32m      9\u001b[0m \u001b[0;34m\u001b[0m\u001b[0m\n\u001b[1;32m     10\u001b[0m \u001b[0mb_posterior\u001b[0m \u001b[0;34m/=\u001b[0m \u001b[0mnp\u001b[0m\u001b[0;34m.\u001b[0m\u001b[0mtrapz\u001b[0m\u001b[0;34m(\u001b[0m\u001b[0mb_posterior\u001b[0m\u001b[0;34m,\u001b[0m \u001b[0mb_array\u001b[0m\u001b[0;34m)\u001b[0m\u001b[0;34m\u001b[0m\u001b[0;34m\u001b[0m\u001b[0m\n",
            "\u001b[0;31mTypeError\u001b[0m: selection() missing 1 required positional argument: 'max_thr'"
          ]
        }
      ]
    },
    {
      "cell_type": "code",
      "source": [
        "N = 1000\n",
        "REP = 10\n",
        "\n",
        "mu_array=np.linspace(0.5,2,N)#defines a standard table \n",
        "\n",
        "mu_prior = np.ones_like(mu_array) #defines p(mu) table \n",
        "\n",
        "mu_posterior=np.zeros_like(mu_array) #creates p(mu|{x}) table \n",
        "\n",
        "mu_posterior_total=np.ones_like(mu_array)\n",
        "\n",
        "for j in range(REP):\n",
        "    \n",
        "    samples = np.random.uniform(0, 1, N)\n",
        "    entries = 0\n",
        "\n",
        "    for i in range(len(mu_array)):\n",
        "       if samples[i] < 0.7 :\n",
        "       entries = i\n",
        "\n",
        "    for i in range(len(mu_array)):\n",
        "      mu_posterior[i] = np.exp(-0.5*( (N/entries - mu_array[i]/0.7 ) /np.std(mu_array / 0.7) )**2)\n",
        "      mu_posterior[i] = ( 2 * 3.14 * np.std(mu_array / 0.7) )**(-1) *(mu_posterior[i])*mu_prior[i]\n",
        "      plt.plot(mu_array,mu_posterior,label='Experiment n°{:d}'.format(0),alpha=1) \n",
        "      \n",
        "mu_posterior_total*=mu_posterior\n",
        "\n",
        "plt.plot(mu_array,mu_posterior_total,label='Experiment n°{:d}'.format(0),alpha=1) \n",
        "plt.legend()\n",
        "plt.xlabel('$\\mu$')\n",
        "plt.ylabel('PDF p($\\mu$|{x})') \n",
        "\n"
      ],
      "metadata": {
        "colab": {
          "base_uri": "https://localhost:8080/",
          "height": 130
        },
        "id": "rqRURVNZpiwI",
        "outputId": "161a05ab-6127-4376-c2ab-4fa57c92bc3f"
      },
      "execution_count": null,
      "outputs": [
        {
          "output_type": "error",
          "ename": "IndentationError",
          "evalue": "ignored",
          "traceback": [
            "\u001b[0;36m  File \u001b[0;32m\"<ipython-input-9-74187e7e9eb7>\"\u001b[0;36m, line \u001b[0;32m19\u001b[0m\n\u001b[0;31m    entries = i\u001b[0m\n\u001b[0m    ^\u001b[0m\n\u001b[0;31mIndentationError\u001b[0m\u001b[0;31m:\u001b[0m expected an indented block\n"
          ]
        }
      ]
    },
    {
      "cell_type": "code",
      "source": [],
      "metadata": {
        "id": "0kJGd3SeqwIy"
      },
      "execution_count": null,
      "outputs": []
    },
    {
      "cell_type": "code",
      "source": [
        "mu_array=np.linspace(0.5,2,N)#defines a standard table \n",
        "\n",
        "mu_prior = np.ones_like(mu_array) #defines p(mu) table \n",
        "\n",
        "mu_posterior=np.zeros_like(mu_array) #creates p(mu|{x}) table \n",
        "\n",
        "#print(mu_array)\n",
        "\n",
        "entries = 0\n",
        "\n",
        "for i in range(len(mu_array)):\n",
        "    if samples[i] < 0.7 :\n",
        "       entries = entries + 1\n",
        "\n",
        "print(entries)\n",
        "\n",
        "\n",
        "for i in range(len(mu_array)):\n",
        "     mu_posterior[i] = np.exp(-0.5*( (N/entries - mu_array[i]/0.7 ) /np.std(mu_array / 0.7) )**2)\n",
        "     mu_posterior[i] = ( 2 * 3.14 * np.std(mu_array / 0.7) )**(-1) *(mu_posterior[i])*mu_prior[i]\n",
        "\n",
        "print(np.std(mu_array / 0.7))\n",
        "\n",
        "\n",
        "#print(mu_posterior, entries)\n",
        "\n",
        "plt.plot(mu_array,mu_posterior,label='Experiment n°{:d}'.format(0),alpha=1) \n",
        "plt.legend()\n",
        "plt.xlabel('$\\mu$')\n",
        "plt.ylabel('PDF p($\\mu$|{x})') "
      ],
      "metadata": {
        "colab": {
          "base_uri": "https://localhost:8080/",
          "height": 333
        },
        "id": "Gx4YcuDKFpOK",
        "outputId": "04abc8a8-f376-4a35-ce02-32d1128aa12e"
      },
      "execution_count": null,
      "outputs": [
        {
          "output_type": "stream",
          "name": "stdout",
          "text": [
            "63\n",
            "0.6248067109896563\n"
          ]
        },
        {
          "output_type": "execute_result",
          "data": {
            "text/plain": [
              "Text(0, 0.5, 'PDF p($\\\\mu$|{x})')"
            ]
          },
          "metadata": {},
          "execution_count": 10
        },
        {
          "output_type": "display_data",
          "data": {
            "text/plain": [
              "<Figure size 432x288 with 1 Axes>"
            ],
            "image/png": "[encoded data removed]"
          },
          "metadata": {
            "needs_background": "light"
          }
        }
      ]
    }
  ]
}